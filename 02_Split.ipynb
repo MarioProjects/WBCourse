{
 "cells": [
  {
   "cell_type": "code",
   "execution_count": 5,
   "id": "2834eed5",
   "metadata": {},
   "outputs": [],
   "source": [
    "# Install wandb\n",
    "!pip install wandb --quiet"
   ]
  },
  {
   "cell_type": "code",
   "execution_count": 6,
   "id": "26f3ec85",
   "metadata": {},
   "outputs": [
    {
     "name": "stdout",
     "output_type": "stream",
     "text": [
      "wandb, version 0.13.9\r\n"
     ]
    }
   ],
   "source": [
    "!wandb --version"
   ]
  },
  {
   "cell_type": "code",
   "execution_count": 7,
   "id": "6e8e7558",
   "metadata": {},
   "outputs": [],
   "source": [
    "import os\n",
    "import wandb\n",
    "import pandas as pd\n",
    "\n",
    "from sklearn.model_selection import StratifiedGroupKFold\n",
    "\n",
    "import params"
   ]
  },
  {
   "cell_type": "markdown",
   "id": "e1cd5a65",
   "metadata": {},
   "source": [
    "Initialise a run to track de split"
   ]
  },
  {
   "cell_type": "code",
   "execution_count": 9,
   "id": "a8a46ba2",
   "metadata": {},
   "outputs": [
    {
     "name": "stderr",
     "output_type": "stream",
     "text": [
      "\u001b[34m\u001b[1mwandb\u001b[0m: Currently logged in as: \u001b[33mmarioparreno\u001b[0m. Use \u001b[1m`wandb login --relogin`\u001b[0m to force relogin\n"
     ]
    },
    {
     "data": {
      "text/html": [
       "Tracking run with wandb version 0.13.9"
      ],
      "text/plain": [
       "<IPython.core.display.HTML object>"
      ]
     },
     "metadata": {},
     "output_type": "display_data"
    },
    {
     "data": {
      "text/html": [
       "Run data is saved locally in <code>/media/maparla/Almacen/WBCourse/wandb/run-20230116_114543-dx7r42xk</code>"
      ],
      "text/plain": [
       "<IPython.core.display.HTML object>"
      ]
     },
     "metadata": {},
     "output_type": "display_data"
    },
    {
     "data": {
      "text/html": [
       "Syncing run <strong><a href=\"https://wandb.ai/marioparreno/mlops-wandb-course/runs/dx7r42xk\" target=\"_blank\">wandering-surf-4</a></strong> to <a href=\"https://wandb.ai/marioparreno/mlops-wandb-course\" target=\"_blank\">Weights & Biases</a> (<a href=\"https://wandb.me/run\" target=\"_blank\">docs</a>)<br/>"
      ],
      "text/plain": [
       "<IPython.core.display.HTML object>"
      ]
     },
     "metadata": {},
     "output_type": "display_data"
    },
    {
     "data": {
      "text/html": [
       " View project at <a href=\"https://wandb.ai/marioparreno/mlops-wandb-course\" target=\"_blank\">https://wandb.ai/marioparreno/mlops-wandb-course</a>"
      ],
      "text/plain": [
       "<IPython.core.display.HTML object>"
      ]
     },
     "metadata": {},
     "output_type": "display_data"
    },
    {
     "data": {
      "text/html": [
       " View run at <a href=\"https://wandb.ai/marioparreno/mlops-wandb-course/runs/dx7r42xk\" target=\"_blank\">https://wandb.ai/marioparreno/mlops-wandb-course/runs/dx7r42xk</a>"
      ],
      "text/plain": [
       "<IPython.core.display.HTML object>"
      ]
     },
     "metadata": {},
     "output_type": "display_data"
    }
   ],
   "source": [
    "run = wandb.init(\n",
    "    project=params.WANDB_PROJECT,\n",
    "    entity=params.ENTITY,\n",
    "    job_type=\"data_split\"\n",
    ")"
   ]
  },
  {
   "cell_type": "markdown",
   "id": "42b207bc",
   "metadata": {},
   "source": [
    "In the previous Notebook we saved our data to an Artifact\n",
    "\n",
    "We will use it now and track the lineage of our dataset in this way"
   ]
  },
  {
   "cell_type": "code",
   "execution_count": 10,
   "id": "e7cd9acc",
   "metadata": {
    "scrolled": false
   },
   "outputs": [
    {
     "name": "stderr",
     "output_type": "stream",
     "text": [
      "\u001b[34m\u001b[1mwandb\u001b[0m: Downloading large artifact oranges:latest, 2521.61MB. 796 files... \n"
     ]
    },
    {
     "ename": "OSError",
     "evalue": "[Errno 22] Invalid argument: './artifacts/oranges:v0'",
     "output_type": "error",
     "traceback": [
      "\u001b[0;31m---------------------------------------------------------------------------\u001b[0m",
      "\u001b[0;31mOSError\u001b[0m                                   Traceback (most recent call last)",
      "Input \u001b[0;32mIn [10]\u001b[0m, in \u001b[0;36m<cell line: 5>\u001b[0;34m()\u001b[0m\n\u001b[1;32m      1\u001b[0m raw_data_at \u001b[38;5;241m=\u001b[39m run\u001b[38;5;241m.\u001b[39muse_artifact(\n\u001b[1;32m      2\u001b[0m     \u001b[38;5;124m'\u001b[39m\u001b[38;5;124mmarioparreno/mlops-wandb-course/oranges:latest\u001b[39m\u001b[38;5;124m'\u001b[39m,\n\u001b[1;32m      3\u001b[0m     \u001b[38;5;28mtype\u001b[39m\u001b[38;5;241m=\u001b[39m\u001b[38;5;124m'\u001b[39m\u001b[38;5;124mraw_data\u001b[39m\u001b[38;5;124m'\u001b[39m\n\u001b[1;32m      4\u001b[0m )\n\u001b[0;32m----> 5\u001b[0m artifact_dir \u001b[38;5;241m=\u001b[39m \u001b[43mraw_data_at\u001b[49m\u001b[38;5;241;43m.\u001b[39;49m\u001b[43mdownload\u001b[49m\u001b[43m(\u001b[49m\u001b[43m)\u001b[49m\n",
      "File \u001b[0;32m~/anaconda3/envs/my_pl_env/lib/python3.8/site-packages/wandb/apis/public.py:4739\u001b[0m, in \u001b[0;36mArtifact.download\u001b[0;34m(self, root, recursive)\u001b[0m\n\u001b[1;32m   4736\u001b[0m download_logger \u001b[38;5;241m=\u001b[39m _ArtifactDownloadLogger(nfiles\u001b[38;5;241m=\u001b[39mnfiles)\n\u001b[1;32m   4738\u001b[0m pool \u001b[38;5;241m=\u001b[39m multiprocessing\u001b[38;5;241m.\u001b[39mdummy\u001b[38;5;241m.\u001b[39mPool(\u001b[38;5;241m32\u001b[39m)\n\u001b[0;32m-> 4739\u001b[0m \u001b[43mpool\u001b[49m\u001b[38;5;241;43m.\u001b[39;49m\u001b[43mmap\u001b[49m\u001b[43m(\u001b[49m\n\u001b[1;32m   4740\u001b[0m \u001b[43m    \u001b[49m\u001b[43mpartial\u001b[49m\u001b[43m(\u001b[49m\u001b[38;5;28;43mself\u001b[39;49m\u001b[38;5;241;43m.\u001b[39;49m\u001b[43m_download_file\u001b[49m\u001b[43m,\u001b[49m\u001b[43m \u001b[49m\u001b[43mroot\u001b[49m\u001b[38;5;241;43m=\u001b[39;49m\u001b[43mdirpath\u001b[49m\u001b[43m,\u001b[49m\u001b[43m \u001b[49m\u001b[43mdownload_logger\u001b[49m\u001b[38;5;241;43m=\u001b[39;49m\u001b[43mdownload_logger\u001b[49m\u001b[43m)\u001b[49m\u001b[43m,\u001b[49m\n\u001b[1;32m   4741\u001b[0m \u001b[43m    \u001b[49m\u001b[43mmanifest\u001b[49m\u001b[38;5;241;43m.\u001b[39;49m\u001b[43mentries\u001b[49m\u001b[43m,\u001b[49m\n\u001b[1;32m   4742\u001b[0m \u001b[43m\u001b[49m\u001b[43m)\u001b[49m\n\u001b[1;32m   4743\u001b[0m \u001b[38;5;28;01mif\u001b[39;00m recursive:\n\u001b[1;32m   4744\u001b[0m     pool\u001b[38;5;241m.\u001b[39mmap(\u001b[38;5;28;01mlambda\u001b[39;00m artifact: artifact\u001b[38;5;241m.\u001b[39mdownload(), \u001b[38;5;28mself\u001b[39m\u001b[38;5;241m.\u001b[39m_dependent_artifacts)\n",
      "File \u001b[0;32m~/anaconda3/envs/my_pl_env/lib/python3.8/multiprocessing/pool.py:364\u001b[0m, in \u001b[0;36mPool.map\u001b[0;34m(self, func, iterable, chunksize)\u001b[0m\n\u001b[1;32m    359\u001b[0m \u001b[38;5;28;01mdef\u001b[39;00m \u001b[38;5;21mmap\u001b[39m(\u001b[38;5;28mself\u001b[39m, func, iterable, chunksize\u001b[38;5;241m=\u001b[39m\u001b[38;5;28;01mNone\u001b[39;00m):\n\u001b[1;32m    360\u001b[0m     \u001b[38;5;124;03m'''\u001b[39;00m\n\u001b[1;32m    361\u001b[0m \u001b[38;5;124;03m    Apply `func` to each element in `iterable`, collecting the results\u001b[39;00m\n\u001b[1;32m    362\u001b[0m \u001b[38;5;124;03m    in a list that is returned.\u001b[39;00m\n\u001b[1;32m    363\u001b[0m \u001b[38;5;124;03m    '''\u001b[39;00m\n\u001b[0;32m--> 364\u001b[0m     \u001b[38;5;28;01mreturn\u001b[39;00m \u001b[38;5;28;43mself\u001b[39;49m\u001b[38;5;241;43m.\u001b[39;49m\u001b[43m_map_async\u001b[49m\u001b[43m(\u001b[49m\u001b[43mfunc\u001b[49m\u001b[43m,\u001b[49m\u001b[43m \u001b[49m\u001b[43miterable\u001b[49m\u001b[43m,\u001b[49m\u001b[43m \u001b[49m\u001b[43mmapstar\u001b[49m\u001b[43m,\u001b[49m\u001b[43m \u001b[49m\u001b[43mchunksize\u001b[49m\u001b[43m)\u001b[49m\u001b[38;5;241;43m.\u001b[39;49m\u001b[43mget\u001b[49m\u001b[43m(\u001b[49m\u001b[43m)\u001b[49m\n",
      "File \u001b[0;32m~/anaconda3/envs/my_pl_env/lib/python3.8/multiprocessing/pool.py:771\u001b[0m, in \u001b[0;36mApplyResult.get\u001b[0;34m(self, timeout)\u001b[0m\n\u001b[1;32m    769\u001b[0m     \u001b[38;5;28;01mreturn\u001b[39;00m \u001b[38;5;28mself\u001b[39m\u001b[38;5;241m.\u001b[39m_value\n\u001b[1;32m    770\u001b[0m \u001b[38;5;28;01melse\u001b[39;00m:\n\u001b[0;32m--> 771\u001b[0m     \u001b[38;5;28;01mraise\u001b[39;00m \u001b[38;5;28mself\u001b[39m\u001b[38;5;241m.\u001b[39m_value\n",
      "File \u001b[0;32m~/anaconda3/envs/my_pl_env/lib/python3.8/multiprocessing/pool.py:125\u001b[0m, in \u001b[0;36mworker\u001b[0;34m(inqueue, outqueue, initializer, initargs, maxtasks, wrap_exception)\u001b[0m\n\u001b[1;32m    123\u001b[0m job, i, func, args, kwds \u001b[38;5;241m=\u001b[39m task\n\u001b[1;32m    124\u001b[0m \u001b[38;5;28;01mtry\u001b[39;00m:\n\u001b[0;32m--> 125\u001b[0m     result \u001b[38;5;241m=\u001b[39m (\u001b[38;5;28;01mTrue\u001b[39;00m, \u001b[43mfunc\u001b[49m\u001b[43m(\u001b[49m\u001b[38;5;241;43m*\u001b[39;49m\u001b[43margs\u001b[49m\u001b[43m,\u001b[49m\u001b[43m \u001b[49m\u001b[38;5;241;43m*\u001b[39;49m\u001b[38;5;241;43m*\u001b[39;49m\u001b[43mkwds\u001b[49m\u001b[43m)\u001b[49m)\n\u001b[1;32m    126\u001b[0m \u001b[38;5;28;01mexcept\u001b[39;00m \u001b[38;5;167;01mException\u001b[39;00m \u001b[38;5;28;01mas\u001b[39;00m e:\n\u001b[1;32m    127\u001b[0m     \u001b[38;5;28;01mif\u001b[39;00m wrap_exception \u001b[38;5;129;01mand\u001b[39;00m func \u001b[38;5;129;01mis\u001b[39;00m \u001b[38;5;129;01mnot\u001b[39;00m _helper_reraises_exception:\n",
      "File \u001b[0;32m~/anaconda3/envs/my_pl_env/lib/python3.8/multiprocessing/pool.py:48\u001b[0m, in \u001b[0;36mmapstar\u001b[0;34m(args)\u001b[0m\n\u001b[1;32m     47\u001b[0m \u001b[38;5;28;01mdef\u001b[39;00m \u001b[38;5;21mmapstar\u001b[39m(args):\n\u001b[0;32m---> 48\u001b[0m     \u001b[38;5;28;01mreturn\u001b[39;00m \u001b[38;5;28;43mlist\u001b[39;49m\u001b[43m(\u001b[49m\u001b[38;5;28;43mmap\u001b[39;49m\u001b[43m(\u001b[49m\u001b[38;5;241;43m*\u001b[39;49m\u001b[43margs\u001b[49m\u001b[43m)\u001b[49m\u001b[43m)\u001b[49m\n",
      "File \u001b[0;32m~/anaconda3/envs/my_pl_env/lib/python3.8/site-packages/wandb/apis/public.py:4835\u001b[0m, in \u001b[0;36mArtifact._download_file\u001b[0;34m(self, name, root, download_logger)\u001b[0m\n\u001b[1;32m   4831\u001b[0m \u001b[38;5;28;01mdef\u001b[39;00m \u001b[38;5;21m_download_file\u001b[39m(\n\u001b[1;32m   4832\u001b[0m     \u001b[38;5;28mself\u001b[39m, name, root, download_logger: Optional[_ArtifactDownloadLogger] \u001b[38;5;241m=\u001b[39m \u001b[38;5;28;01mNone\u001b[39;00m\n\u001b[1;32m   4833\u001b[0m ):\n\u001b[1;32m   4834\u001b[0m     \u001b[38;5;66;03m# download file into cache and copy to target dir\u001b[39;00m\n\u001b[0;32m-> 4835\u001b[0m     downloaded_path \u001b[38;5;241m=\u001b[39m \u001b[38;5;28;43mself\u001b[39;49m\u001b[38;5;241;43m.\u001b[39;49m\u001b[43mget_path\u001b[49m\u001b[43m(\u001b[49m\u001b[43mname\u001b[49m\u001b[43m)\u001b[49m\u001b[38;5;241;43m.\u001b[39;49m\u001b[43mdownload\u001b[49m\u001b[43m(\u001b[49m\u001b[43mroot\u001b[49m\u001b[43m)\u001b[49m\n\u001b[1;32m   4836\u001b[0m     \u001b[38;5;28;01mif\u001b[39;00m download_logger \u001b[38;5;129;01mis\u001b[39;00m \u001b[38;5;129;01mnot\u001b[39;00m \u001b[38;5;28;01mNone\u001b[39;00m:\n\u001b[1;32m   4837\u001b[0m         download_logger\u001b[38;5;241m.\u001b[39mnotify_downloaded()\n",
      "File \u001b[0;32m~/anaconda3/envs/my_pl_env/lib/python3.8/site-packages/wandb/apis/public.py:4147\u001b[0m, in \u001b[0;36m_DownloadedArtifactEntry.download\u001b[0;34m(self, root)\u001b[0m\n\u001b[1;32m   4142\u001b[0m \u001b[38;5;28;01melse\u001b[39;00m:\n\u001b[1;32m   4143\u001b[0m     cache_path \u001b[38;5;241m=\u001b[39m manifest\u001b[38;5;241m.\u001b[39mstorage_policy\u001b[38;5;241m.\u001b[39mload_file(\n\u001b[1;32m   4144\u001b[0m         \u001b[38;5;28mself\u001b[39m\u001b[38;5;241m.\u001b[39m_parent_artifact, \u001b[38;5;28mself\u001b[39m\u001b[38;5;241m.\u001b[39mname, manifest\u001b[38;5;241m.\u001b[39mentries[\u001b[38;5;28mself\u001b[39m\u001b[38;5;241m.\u001b[39mname]\n\u001b[1;32m   4145\u001b[0m     )\n\u001b[0;32m-> 4147\u001b[0m \u001b[38;5;28;01mreturn\u001b[39;00m \u001b[38;5;28;43mself\u001b[39;49m\u001b[38;5;241;43m.\u001b[39;49m\u001b[43mcopy\u001b[49m\u001b[43m(\u001b[49m\u001b[43mcache_path\u001b[49m\u001b[43m,\u001b[49m\u001b[43m \u001b[49m\u001b[43mos\u001b[49m\u001b[38;5;241;43m.\u001b[39;49m\u001b[43mpath\u001b[49m\u001b[38;5;241;43m.\u001b[39;49m\u001b[43mjoin\u001b[49m\u001b[43m(\u001b[49m\u001b[43mroot\u001b[49m\u001b[43m,\u001b[49m\u001b[43m \u001b[49m\u001b[38;5;28;43mself\u001b[39;49m\u001b[38;5;241;43m.\u001b[39;49m\u001b[43mname\u001b[49m\u001b[43m)\u001b[49m\u001b[43m)\u001b[49m\n",
      "File \u001b[0;32m~/anaconda3/envs/my_pl_env/lib/python3.8/site-packages/wandb/apis/public.py:4125\u001b[0m, in \u001b[0;36m_DownloadedArtifactEntry.copy\u001b[0;34m(self, cache_path, target_path)\u001b[0m\n\u001b[1;32m   4120\u001b[0m need_copy \u001b[38;5;241m=\u001b[39m (\n\u001b[1;32m   4121\u001b[0m     \u001b[38;5;129;01mnot\u001b[39;00m os\u001b[38;5;241m.\u001b[39mpath\u001b[38;5;241m.\u001b[39misfile(target_path)\n\u001b[1;32m   4122\u001b[0m     \u001b[38;5;129;01mor\u001b[39;00m os\u001b[38;5;241m.\u001b[39mstat(cache_path)\u001b[38;5;241m.\u001b[39mst_mtime \u001b[38;5;241m!=\u001b[39m os\u001b[38;5;241m.\u001b[39mstat(target_path)\u001b[38;5;241m.\u001b[39mst_mtime\n\u001b[1;32m   4123\u001b[0m )\n\u001b[1;32m   4124\u001b[0m \u001b[38;5;28;01mif\u001b[39;00m need_copy:\n\u001b[0;32m-> 4125\u001b[0m     \u001b[43mfilesystem\u001b[49m\u001b[38;5;241;43m.\u001b[39;49m\u001b[43mmkdir_exists_ok\u001b[49m\u001b[43m(\u001b[49m\u001b[43mos\u001b[49m\u001b[38;5;241;43m.\u001b[39;49m\u001b[43mpath\u001b[49m\u001b[38;5;241;43m.\u001b[39;49m\u001b[43mdirname\u001b[49m\u001b[43m(\u001b[49m\u001b[43mtarget_path\u001b[49m\u001b[43m)\u001b[49m\u001b[43m)\u001b[49m\n\u001b[1;32m   4126\u001b[0m     \u001b[38;5;66;03m# We use copy2, which preserves file metadata including modified\u001b[39;00m\n\u001b[1;32m   4127\u001b[0m     \u001b[38;5;66;03m# time (which we use above to check whether we should do the copy).\u001b[39;00m\n\u001b[1;32m   4128\u001b[0m     shutil\u001b[38;5;241m.\u001b[39mcopy2(cache_path, target_path)\n",
      "File \u001b[0;32m~/anaconda3/envs/my_pl_env/lib/python3.8/site-packages/wandb/sdk/lib/filesystem.py:16\u001b[0m, in \u001b[0;36mmkdir_exists_ok\u001b[0;34m(dir_name)\u001b[0m\n\u001b[1;32m      9\u001b[0m \u001b[38;5;28;01mdef\u001b[39;00m \u001b[38;5;21mmkdir_exists_ok\u001b[39m(dir_name: AnyPath) \u001b[38;5;241m-\u001b[39m\u001b[38;5;241m>\u001b[39m \u001b[38;5;28;01mNone\u001b[39;00m:\n\u001b[1;32m     10\u001b[0m     \u001b[38;5;124;03m\"\"\"Create `dir_name` and any parent directories if they don't exist.\u001b[39;00m\n\u001b[1;32m     11\u001b[0m \n\u001b[1;32m     12\u001b[0m \u001b[38;5;124;03m    Raises:\u001b[39;00m\n\u001b[1;32m     13\u001b[0m \u001b[38;5;124;03m        FileExistsError: if `dir_name` exists and is not a directory.\u001b[39;00m\n\u001b[1;32m     14\u001b[0m \u001b[38;5;124;03m        PermissionError: if `dir_name` is not writable.\u001b[39;00m\n\u001b[1;32m     15\u001b[0m \u001b[38;5;124;03m    \"\"\"\u001b[39;00m\n\u001b[0;32m---> 16\u001b[0m     \u001b[43mos\u001b[49m\u001b[38;5;241;43m.\u001b[39;49m\u001b[43mmakedirs\u001b[49m\u001b[43m(\u001b[49m\u001b[43mdir_name\u001b[49m\u001b[43m,\u001b[49m\u001b[43m \u001b[49m\u001b[43mexist_ok\u001b[49m\u001b[38;5;241;43m=\u001b[39;49m\u001b[38;5;28;43;01mTrue\u001b[39;49;00m\u001b[43m)\u001b[49m\n\u001b[1;32m     17\u001b[0m     \u001b[38;5;28;01mif\u001b[39;00m \u001b[38;5;129;01mnot\u001b[39;00m os\u001b[38;5;241m.\u001b[39maccess(dir_name, os\u001b[38;5;241m.\u001b[39mW_OK):\n\u001b[1;32m     18\u001b[0m         \u001b[38;5;28;01mraise\u001b[39;00m \u001b[38;5;167;01mPermissionError\u001b[39;00m(\u001b[38;5;124mf\u001b[39m\u001b[38;5;124m\"\u001b[39m\u001b[38;5;132;01m{\u001b[39;00mdir_name\u001b[38;5;132;01m!s}\u001b[39;00m\u001b[38;5;124m is not writable\u001b[39m\u001b[38;5;124m\"\u001b[39m)\n",
      "File \u001b[0;32m~/anaconda3/envs/my_pl_env/lib/python3.8/os.py:213\u001b[0m, in \u001b[0;36mmakedirs\u001b[0;34m(name, mode, exist_ok)\u001b[0m\n\u001b[1;32m    211\u001b[0m \u001b[38;5;28;01mif\u001b[39;00m head \u001b[38;5;129;01mand\u001b[39;00m tail \u001b[38;5;129;01mand\u001b[39;00m \u001b[38;5;129;01mnot\u001b[39;00m path\u001b[38;5;241m.\u001b[39mexists(head):\n\u001b[1;32m    212\u001b[0m     \u001b[38;5;28;01mtry\u001b[39;00m:\n\u001b[0;32m--> 213\u001b[0m         \u001b[43mmakedirs\u001b[49m\u001b[43m(\u001b[49m\u001b[43mhead\u001b[49m\u001b[43m,\u001b[49m\u001b[43m \u001b[49m\u001b[43mexist_ok\u001b[49m\u001b[38;5;241;43m=\u001b[39;49m\u001b[43mexist_ok\u001b[49m\u001b[43m)\u001b[49m\n\u001b[1;32m    214\u001b[0m     \u001b[38;5;28;01mexcept\u001b[39;00m \u001b[38;5;167;01mFileExistsError\u001b[39;00m:\n\u001b[1;32m    215\u001b[0m         \u001b[38;5;66;03m# Defeats race condition when another thread created the path\u001b[39;00m\n\u001b[1;32m    216\u001b[0m         \u001b[38;5;28;01mpass\u001b[39;00m\n",
      "File \u001b[0;32m~/anaconda3/envs/my_pl_env/lib/python3.8/os.py:213\u001b[0m, in \u001b[0;36mmakedirs\u001b[0;34m(name, mode, exist_ok)\u001b[0m\n\u001b[1;32m    211\u001b[0m \u001b[38;5;28;01mif\u001b[39;00m head \u001b[38;5;129;01mand\u001b[39;00m tail \u001b[38;5;129;01mand\u001b[39;00m \u001b[38;5;129;01mnot\u001b[39;00m path\u001b[38;5;241m.\u001b[39mexists(head):\n\u001b[1;32m    212\u001b[0m     \u001b[38;5;28;01mtry\u001b[39;00m:\n\u001b[0;32m--> 213\u001b[0m         \u001b[43mmakedirs\u001b[49m\u001b[43m(\u001b[49m\u001b[43mhead\u001b[49m\u001b[43m,\u001b[49m\u001b[43m \u001b[49m\u001b[43mexist_ok\u001b[49m\u001b[38;5;241;43m=\u001b[39;49m\u001b[43mexist_ok\u001b[49m\u001b[43m)\u001b[49m\n\u001b[1;32m    214\u001b[0m     \u001b[38;5;28;01mexcept\u001b[39;00m \u001b[38;5;167;01mFileExistsError\u001b[39;00m:\n\u001b[1;32m    215\u001b[0m         \u001b[38;5;66;03m# Defeats race condition when another thread created the path\u001b[39;00m\n\u001b[1;32m    216\u001b[0m         \u001b[38;5;28;01mpass\u001b[39;00m\n",
      "File \u001b[0;32m~/anaconda3/envs/my_pl_env/lib/python3.8/os.py:223\u001b[0m, in \u001b[0;36mmakedirs\u001b[0;34m(name, mode, exist_ok)\u001b[0m\n\u001b[1;32m    221\u001b[0m         \u001b[38;5;28;01mreturn\u001b[39;00m\n\u001b[1;32m    222\u001b[0m \u001b[38;5;28;01mtry\u001b[39;00m:\n\u001b[0;32m--> 223\u001b[0m     \u001b[43mmkdir\u001b[49m\u001b[43m(\u001b[49m\u001b[43mname\u001b[49m\u001b[43m,\u001b[49m\u001b[43m \u001b[49m\u001b[43mmode\u001b[49m\u001b[43m)\u001b[49m\n\u001b[1;32m    224\u001b[0m \u001b[38;5;28;01mexcept\u001b[39;00m \u001b[38;5;167;01mOSError\u001b[39;00m:\n\u001b[1;32m    225\u001b[0m     \u001b[38;5;66;03m# Cannot rely on checking for EEXIST, since the operating system\u001b[39;00m\n\u001b[1;32m    226\u001b[0m     \u001b[38;5;66;03m# could give priority to other errors like EACCES or EROFS\u001b[39;00m\n\u001b[1;32m    227\u001b[0m     \u001b[38;5;28;01mif\u001b[39;00m \u001b[38;5;129;01mnot\u001b[39;00m exist_ok \u001b[38;5;129;01mor\u001b[39;00m \u001b[38;5;129;01mnot\u001b[39;00m path\u001b[38;5;241m.\u001b[39misdir(name):\n",
      "\u001b[0;31mOSError\u001b[0m: [Errno 22] Invalid argument: './artifacts/oranges:v0'"
     ]
    }
   ],
   "source": [
    "raw_data_at = run.use_artifact(\n",
    "    'marioparreno/mlops-wandb-course/oranges:latest',\n",
    "    type='raw_data'\n",
    ")\n",
    "artifact_dir = raw_data_at.download()"
   ]
  },
  {
   "cell_type": "markdown",
   "id": "8a6dd35d",
   "metadata": {},
   "source": [
    "To create the splits we will need the data filenames and labels\n",
    "\n",
    "We have already that information at our dataset or also at the Table we created for our EDA\n",
    "\n",
    "Let's retrieve it from our EDA Table"
   ]
  },
  {
   "cell_type": "code",
   "execution_count": null,
   "id": "86024aa6",
   "metadata": {},
   "outputs": [],
   "source": [
    "orig_eda_table = raw_data_at.get(\"eda_table\")"
   ]
  },
  {
   "cell_type": "markdown",
   "id": "d4f05fa4",
   "metadata": {},
   "source": [
    "Now we can access the information from our Table easily with the `get_column` method"
   ]
  },
  {
   "cell_type": "code",
   "execution_count": null,
   "id": "568efa22",
   "metadata": {},
   "outputs": [],
   "source": [
    "fnames = orig_eda_table.get_column(\"File_Name\")"
   ]
  },
  {
   "cell_type": "markdown",
   "id": "330b42bf",
   "metadata": {},
   "source": [
    "Given the filenames we are going to split the dataset\n",
    "\n",
    "To do so, we are going to create an additional csv file with the information about image and corresponding split\n",
    "\n",
    "First we are going to create an auxiliary column `fold`"
   ]
  },
  {
   "cell_type": "code",
   "execution_count": null,
   "id": "ee2bb02e",
   "metadata": {},
   "outputs": [],
   "source": [
    "df = pd.DataFrame()\n",
    "df['File_Name'] = fnames\n",
    "df['fold'] = -1"
   ]
  },
  {
   "cell_type": "markdown",
   "id": "3f7f19c9",
   "metadata": {},
   "source": [
    "Now we are going to fill the `fold` column generating splits"
   ]
  },
  {
   "cell_type": "code",
   "execution_count": null,
   "id": "b8c0449d",
   "metadata": {},
   "outputs": [],
   "source": [
    "cv = StratifiedGroupKFold(n_splits=10)\n",
    "for i, (traind_idxs, test_idxs) in enumerate(cv.split(fnames, y)):\n",
    "    df.loc[test_idxs, ['fold']] = i"
   ]
  },
  {
   "cell_type": "markdown",
   "id": "1b4c46f7",
   "metadata": {},
   "source": [
    "Given the `fold` information we are going to define the splits for training, validation and test"
   ]
  },
  {
   "cell_type": "code",
   "execution_count": null,
   "id": "929c2bd3",
   "metadata": {},
   "outputs": [],
   "source": [
    "df['Stage'] = 'train'\n",
    "df.loc[df.fold == 0, ['Stage']] == 'test'\n",
    "df.loc[df.fold == 1, ['Stage']] == 'valid'\n",
    "del df['fold']\n",
    "df.Stage.value_counts()"
   ]
  },
  {
   "cell_type": "markdown",
   "id": "4b334887",
   "metadata": {},
   "source": [
    "Finally we save locally the data split"
   ]
  },
  {
   "cell_type": "code",
   "execution_count": null,
   "id": "beea35df",
   "metadata": {},
   "outputs": [],
   "source": [
    "df.to_csv('data_split.csv', index=False)"
   ]
  },
  {
   "cell_type": "markdown",
   "id": "a96d3493",
   "metadata": {},
   "source": [
    "And log the data split by using an Artifact. Create the Artifact"
   ]
  },
  {
   "cell_type": "code",
   "execution_count": null,
   "id": "e72647a6",
   "metadata": {},
   "outputs": [],
   "source": [
    "processed_data_at = wandb.Artifact(\n",
    "    params.PROCESSED_DATA_AT,\n",
    "    type=\"split_data\"\n",
    ")"
   ]
  },
  {
   "cell_type": "markdown",
   "id": "3d3cd45a",
   "metadata": {},
   "source": [
    "Add the data relevant to the splitted dataset: \n",
    "- The raw data (we could process it, etc)\n",
    "- The split information\n",
    "- The dataset (labels) information"
   ]
  },
  {
   "cell_type": "code",
   "execution_count": null,
   "id": "82541882",
   "metadata": {},
   "outputs": [],
   "source": [
    "processed_data_at.add_file('data_split.csv')  # The split information\n",
    "processed_data_at.add_dir()  # The raw data (we could process it, etc)"
   ]
  },
  {
   "cell_type": "markdown",
   "id": "1265bf9e",
   "metadata": {},
   "source": [
    "We are going to save the split information by using the Table object from W&B\n",
    "\n",
    "To do so we are going to take our previous EDA table wich contains valuable information, such as the labels, and add the `Stage` information. For that, we are going to create a new W&B Table with the `File_Name` and `Stage` information"
   ]
  },
  {
   "cell_type": "code",
   "execution_count": null,
   "id": "ed8f351d",
   "metadata": {},
   "outputs": [],
   "source": [
    "data_split_table = wandb.Table(\n",
    "    dataframe=df[['File_Name', 'Stage']]\n",
    ")"
   ]
  },
  {
   "cell_type": "markdown",
   "id": "39fd2eb8",
   "metadata": {},
   "source": [
    "And create a join table, merging the information from our previous table and the split table information one, joining by the `File_Name`"
   ]
  },
  {
   "cell_type": "code",
   "execution_count": null,
   "id": "17cdf98d",
   "metadata": {},
   "outputs": [],
   "source": [
    "join_table = wandb.JoinedTable(\n",
    "    orig_eda_table,\n",
    "    data_split_table,\n",
    "    'File_Name'\n",
    ")"
   ]
  },
  {
   "cell_type": "code",
   "execution_count": null,
   "id": "736e819b",
   "metadata": {},
   "outputs": [],
   "source": [
    "processed_data_at.add(join_table, \"eda_table_data_split\")"
   ]
  },
  {
   "cell_type": "markdown",
   "id": "67b8b1c2",
   "metadata": {},
   "source": [
    "Now we can log our Artifact and finish the run"
   ]
  },
  {
   "cell_type": "code",
   "execution_count": null,
   "id": "4eced4fe",
   "metadata": {},
   "outputs": [],
   "source": [
    "run.log_artifact(processed_data_at)\n",
    "run.finish()"
   ]
  }
 ],
 "metadata": {
  "kernelspec": {
   "display_name": "Python 3 (ipykernel)",
   "language": "python",
   "name": "python3"
  },
  "language_info": {
   "codemirror_mode": {
    "name": "ipython",
    "version": 3
   },
   "file_extension": ".py",
   "mimetype": "text/x-python",
   "name": "python",
   "nbconvert_exporter": "python",
   "pygments_lexer": "ipython3",
   "version": "3.8.13"
  }
 },
 "nbformat": 4,
 "nbformat_minor": 5
}
