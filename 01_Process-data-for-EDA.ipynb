{
 "cells": [
  {
   "cell_type": "code",
   "execution_count": 1,
   "id": "86737767",
   "metadata": {},
   "outputs": [],
   "source": [
    "# Install wandb\n",
    "!pip install wandb --quiet"
   ]
  },
  {
   "cell_type": "code",
   "execution_count": 2,
   "id": "8644f0cb",
   "metadata": {},
   "outputs": [],
   "source": [
    "import os\n",
    "import numpy as np\n",
    "from skimage import io\n",
    "import pandas as pd\n",
    "from tqdm.notebook import tqdm\n",
    "import params\n",
    "\n",
    "import wandb"
   ]
  },
  {
   "cell_type": "code",
   "execution_count": 3,
   "id": "52f603a5",
   "metadata": {},
   "outputs": [],
   "source": [
    "DATA_DIR = 'DATASETS/oranges'"
   ]
  },
  {
   "cell_type": "code",
   "execution_count": 4,
   "id": "3338b8b4",
   "metadata": {},
   "outputs": [],
   "source": [
    "def _create_table(image_paths, labels):\n",
    "    \"\"\"\n",
    "    Create a table with the dataset\n",
    "    \n",
    "    Args:\n",
    "    - image_paths (list->str): List of image paths\n",
    "    - labels (list->str): List of labels corresponding to image_paths\n",
    "    \n",
    "    Returns:\n",
    "    A wandb table\n",
    "    \"\"\"\n",
    "    assert len(image_paths)==len(labels), \"Number of images and labels different!\"\n",
    "      \n",
    "    table = wandb.Table(columns=[\"File_Name\", \"Images\", \"Dataset\", \"Label\"])\n",
    "    \n",
    "    for i, image_path in tqdm(enumerate(image_paths), total=len(image_paths)):\n",
    "        image_label = labels[i]\n",
    "        image = io.imread(os.path.join(DATA_DIR, image_label, image_path))\n",
    "        \n",
    "        table.add_data(\n",
    "            image_path,\n",
    "            wandb.Image(image),\n",
    "            \"None\", # we don't have a dataset split yet\n",
    "            image_label\n",
    "        )\n",
    "\n",
    "    return table"
   ]
  },
  {
   "cell_type": "markdown",
   "id": "2ada7e98",
   "metadata": {},
   "source": [
    "### START A NEW WANDB RUN\n",
    "\n",
    "https://docs.wandb.ai/ref/python/run"
   ]
  },
  {
   "cell_type": "markdown",
   "id": "51e91544",
   "metadata": {},
   "source": [
    "A run in W&B is a unit of computation we want to track\n",
    "\n",
    "Normally most of the runs are experiments\n",
    "\n",
    "But in this case we are going to use W&B to upload data"
   ]
  },
  {
   "cell_type": "markdown",
   "id": "36895dae",
   "metadata": {},
   "source": [
    "We need to pass a `project` parameter. A project in W&B is just a collection of runs\n",
    "\n",
    "The `entity` represents a team (if we work collaboratory)\n",
    "\n",
    "We will indicate in the `job_type` argument this run is for upload data. This will help us to **organize our runs** in the dashboard"
   ]
  },
  {
   "cell_type": "code",
   "execution_count": 5,
   "id": "042afcd5",
   "metadata": {},
   "outputs": [
    {
     "name": "stderr",
     "output_type": "stream",
     "text": [
      "\u001b[34m\u001b[1mwandb\u001b[0m: Currently logged in as: \u001b[33mmarioparreno\u001b[0m. Use \u001b[1m`wandb login --relogin`\u001b[0m to force relogin\n"
     ]
    },
    {
     "data": {
      "text/html": [
       "wandb version 0.13.9 is available!  To upgrade, please run:\n",
       " $ pip install wandb --upgrade"
      ],
      "text/plain": [
       "<IPython.core.display.HTML object>"
      ]
     },
     "metadata": {},
     "output_type": "display_data"
    },
    {
     "data": {
      "text/html": [
       "Tracking run with wandb version 0.13.5"
      ],
      "text/plain": [
       "<IPython.core.display.HTML object>"
      ]
     },
     "metadata": {},
     "output_type": "display_data"
    },
    {
     "data": {
      "text/html": [
       "Run data is saved locally in <code>/media/maparla/Almacen/WBCourse/wandb/run-20230114_181928-31n8pqfv</code>"
      ],
      "text/plain": [
       "<IPython.core.display.HTML object>"
      ]
     },
     "metadata": {},
     "output_type": "display_data"
    },
    {
     "data": {
      "text/html": [
       "Syncing run <strong><a href=\"https://wandb.ai/marioparreno/mlops-wandb-course/runs/31n8pqfv\" target=\"_blank\">fearless-plasma-1</a></strong> to <a href=\"https://wandb.ai/marioparreno/mlops-wandb-course\" target=\"_blank\">Weights & Biases</a> (<a href=\"https://wandb.me/run\" target=\"_blank\">docs</a>)<br/>"
      ],
      "text/plain": [
       "<IPython.core.display.HTML object>"
      ]
     },
     "metadata": {},
     "output_type": "display_data"
    }
   ],
   "source": [
    "run = wandb.init(\n",
    "    project=params.WANDB_PROJECT,\n",
    "    entity=params.ENTITY,\n",
    "    job_type=\"upload\"\n",
    ")"
   ]
  },
  {
   "cell_type": "markdown",
   "id": "9f6d57e5",
   "metadata": {},
   "source": [
    "### CREATE AN ARTIFACT\n",
    "\n",
    "https://docs.wandb.ai/ref/python/artifact"
   ]
  },
  {
   "cell_type": "markdown",
   "id": "108ac793",
   "metadata": {},
   "source": [
    "We will use WANDB Artifacts to version our datasets"
   ]
  },
  {
   "cell_type": "code",
   "execution_count": 6,
   "id": "0bc85d2d",
   "metadata": {},
   "outputs": [],
   "source": [
    "artifact = wandb.Artifact(\n",
    "    params.RAW_DATA_AT,  # The name of the artifact\n",
    "    type=\"raw_data\"  # Will help us to organize our information\n",
    ")"
   ]
  },
  {
   "cell_type": "markdown",
   "id": "7ac062ad",
   "metadata": {},
   "source": [
    "We can think of an Artifact as a version folder containing our data\n",
    "\n",
    "We can add files or folders to our Artifact"
   ]
  },
  {
   "cell_type": "code",
   "execution_count": 7,
   "id": "a2b03413",
   "metadata": {},
   "outputs": [
    {
     "name": "stderr",
     "output_type": "stream",
     "text": [
      "\u001b[34m\u001b[1mwandb\u001b[0m: Adding directory to artifact (./DATASETS/oranges)... Done. 0.2s\n"
     ]
    },
    {
     "data": {
      "text/plain": [
       "<ManifestEntry digest: A8e2FhAXBrqFxfJZmcTnRw==>"
      ]
     },
     "execution_count": 7,
     "metadata": {},
     "output_type": "execute_result"
    }
   ],
   "source": [
    "artifact.add_dir(DATA_DIR, name=\"images\")\n",
    "artifact.add_file(os.path.join(DATA_DIR, \"labels.csv\"), name=\"labels.csv\")"
   ]
  },
  {
   "cell_type": "markdown",
   "id": "29d5e9aa",
   "metadata": {},
   "source": [
    "-------"
   ]
  },
  {
   "cell_type": "code",
   "execution_count": 8,
   "id": "8e2fb197",
   "metadata": {},
   "outputs": [
    {
     "data": {
      "text/html": [
       "<div>\n",
       "<style scoped>\n",
       "    .dataframe tbody tr th:only-of-type {\n",
       "        vertical-align: middle;\n",
       "    }\n",
       "\n",
       "    .dataframe tbody tr th {\n",
       "        vertical-align: top;\n",
       "    }\n",
       "\n",
       "    .dataframe thead th {\n",
       "        text-align: right;\n",
       "    }\n",
       "</style>\n",
       "<table border=\"1\" class=\"dataframe\">\n",
       "  <thead>\n",
       "    <tr style=\"text-align: right;\">\n",
       "      <th></th>\n",
       "      <th>image</th>\n",
       "      <th>label</th>\n",
       "    </tr>\n",
       "  </thead>\n",
       "  <tbody>\n",
       "    <tr>\n",
       "      <th>0</th>\n",
       "      <td>FreshOrange (1).jpg</td>\n",
       "      <td>FreshOrange</td>\n",
       "    </tr>\n",
       "    <tr>\n",
       "      <th>1</th>\n",
       "      <td>FreshOrange (10).jpg</td>\n",
       "      <td>FreshOrange</td>\n",
       "    </tr>\n",
       "    <tr>\n",
       "      <th>2</th>\n",
       "      <td>FreshOrange (100).jpg</td>\n",
       "      <td>FreshOrange</td>\n",
       "    </tr>\n",
       "    <tr>\n",
       "      <th>3</th>\n",
       "      <td>FreshOrange (101).jpg</td>\n",
       "      <td>FreshOrange</td>\n",
       "    </tr>\n",
       "    <tr>\n",
       "      <th>4</th>\n",
       "      <td>FreshOrange (102).jpg</td>\n",
       "      <td>FreshOrange</td>\n",
       "    </tr>\n",
       "  </tbody>\n",
       "</table>\n",
       "</div>"
      ],
      "text/plain": [
       "                   image        label\n",
       "0    FreshOrange (1).jpg  FreshOrange\n",
       "1   FreshOrange (10).jpg  FreshOrange\n",
       "2  FreshOrange (100).jpg  FreshOrange\n",
       "3  FreshOrange (101).jpg  FreshOrange\n",
       "4  FreshOrange (102).jpg  FreshOrange"
      ]
     },
     "execution_count": 8,
     "metadata": {},
     "output_type": "execute_result"
    }
   ],
   "source": [
    "df = pd.read_csv(os.path.join(DATA_DIR, \"labels.csv\"))\n",
    "df.head()"
   ]
  },
  {
   "cell_type": "code",
   "execution_count": 10,
   "id": "9371d647",
   "metadata": {},
   "outputs": [
    {
     "data": {
      "application/vnd.jupyter.widget-view+json": {
       "model_id": "4d79784f4b5c44c797990626ccdbcd6f",
       "version_major": 2,
       "version_minor": 0
      },
      "text/plain": [
       "  0%|          | 0/400 [00:00<?, ?it/s]"
      ]
     },
     "metadata": {},
     "output_type": "display_data"
    }
   ],
   "source": [
    "table = _create_table(df.image, df.label)"
   ]
  },
  {
   "cell_type": "markdown",
   "id": "ba74b0c7",
   "metadata": {},
   "source": [
    "-------"
   ]
  },
  {
   "cell_type": "markdown",
   "id": "28348026",
   "metadata": {},
   "source": [
    "Add the table to our Artifact with a name"
   ]
  },
  {
   "cell_type": "code",
   "execution_count": 11,
   "id": "c068303a",
   "metadata": {},
   "outputs": [
    {
     "data": {
      "text/plain": [
       "<ManifestEntry digest: 3qao1HLUJjxaN9fVW2e+hg==>"
      ]
     },
     "execution_count": 11,
     "metadata": {},
     "output_type": "execute_result"
    }
   ],
   "source": [
    "artifact.add(table, \"eda_table\")"
   ]
  },
  {
   "cell_type": "markdown",
   "id": "31636448",
   "metadata": {},
   "source": [
    "Log the Artifact to WANDB"
   ]
  },
  {
   "cell_type": "code",
   "execution_count": 12,
   "id": "930f6aed",
   "metadata": {},
   "outputs": [
    {
     "data": {
      "text/plain": [
       "<wandb.sdk.wandb_artifacts.Artifact at 0x7fd6f875cb20>"
      ]
     },
     "execution_count": 12,
     "metadata": {},
     "output_type": "execute_result"
    }
   ],
   "source": [
    "run.log_artifact(artifact)"
   ]
  },
  {
   "cell_type": "markdown",
   "id": "d8990e95",
   "metadata": {},
   "source": [
    "Finally finish our run. That will upload our information to WANDB servers"
   ]
  },
  {
   "cell_type": "code",
   "execution_count": 13,
   "id": "0aae84d5",
   "metadata": {},
   "outputs": [
    {
     "data": {
      "text/html": [
       "Waiting for W&B process to finish... <strong style=\"color:green\">(success).</strong>"
      ],
      "text/plain": [
       "<IPython.core.display.HTML object>"
      ]
     },
     "metadata": {},
     "output_type": "display_data"
    },
    {
     "data": {
      "text/html": [
       "Synced <strong style=\"color:#cdcd00\">fearless-plasma-1</strong>: <a href=\"https://wandb.ai/marioparreno/mlops-wandb-course/runs/31n8pqfv\" target=\"_blank\">https://wandb.ai/marioparreno/mlops-wandb-course/runs/31n8pqfv</a><br/>Synced 6 W&B file(s), 0 media file(s), 788 artifact file(s) and 0 other file(s)"
      ],
      "text/plain": [
       "<IPython.core.display.HTML object>"
      ]
     },
     "metadata": {},
     "output_type": "display_data"
    },
    {
     "data": {
      "text/html": [
       "Find logs at: <code>./wandb/run-20230114_181928-31n8pqfv/logs</code>"
      ],
      "text/plain": [
       "<IPython.core.display.HTML object>"
      ]
     },
     "metadata": {},
     "output_type": "display_data"
    }
   ],
   "source": [
    "run.finish()"
   ]
  }
 ],
 "metadata": {
  "kernelspec": {
   "display_name": "Python 3 (ipykernel)",
   "language": "python",
   "name": "python3"
  },
  "language_info": {
   "codemirror_mode": {
    "name": "ipython",
    "version": 3
   },
   "file_extension": ".py",
   "mimetype": "text/x-python",
   "name": "python",
   "nbconvert_exporter": "python",
   "pygments_lexer": "ipython3",
   "version": "3.8.13"
  }
 },
 "nbformat": 4,
 "nbformat_minor": 5
}
