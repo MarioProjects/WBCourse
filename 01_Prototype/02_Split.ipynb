{
 "cells": [
  {
   "cell_type": "code",
   "execution_count": 1,
   "id": "2834eed5",
   "metadata": {},
   "outputs": [],
   "source": [
    "# Install wandb\n",
    "!pip install wandb --quiet"
   ]
  },
  {
   "cell_type": "code",
   "execution_count": 2,
   "id": "26f3ec85",
   "metadata": {},
   "outputs": [
    {
     "name": "stdout",
     "output_type": "stream",
     "text": [
      "wandb, version 0.13.9\r\n"
     ]
    }
   ],
   "source": [
    "!wandb --version"
   ]
  },
  {
   "cell_type": "code",
   "execution_count": 3,
   "id": "6e8e7558",
   "metadata": {},
   "outputs": [],
   "source": [
    "import os\n",
    "import wandb\n",
    "import pandas as pd\n",
    "import numpy as np\n",
    "\n",
    "from sklearn.model_selection import StratifiedGroupKFold\n",
    "\n",
    "import params"
   ]
  },
  {
   "cell_type": "markdown",
   "id": "e1cd5a65",
   "metadata": {},
   "source": [
    "Initialise a run to track de split"
   ]
  },
  {
   "cell_type": "code",
   "execution_count": 4,
   "id": "a8a46ba2",
   "metadata": {},
   "outputs": [
    {
     "name": "stderr",
     "output_type": "stream",
     "text": [
      "\u001b[34m\u001b[1mwandb\u001b[0m: Currently logged in as: \u001b[33mmarioparreno\u001b[0m. Use \u001b[1m`wandb login --relogin`\u001b[0m to force relogin\n"
     ]
    },
    {
     "data": {
      "text/html": [
       "Tracking run with wandb version 0.13.9"
      ],
      "text/plain": [
       "<IPython.core.display.HTML object>"
      ]
     },
     "metadata": {},
     "output_type": "display_data"
    },
    {
     "data": {
      "text/html": [
       "Run data is saved locally in <code>/home/maparla/Desktop/WBCourse/wandb/run-20230121_115316-1egchxlx</code>"
      ],
      "text/plain": [
       "<IPython.core.display.HTML object>"
      ]
     },
     "metadata": {},
     "output_type": "display_data"
    },
    {
     "data": {
      "text/html": [
       "Syncing run <strong><a href=\"https://wandb.ai/marioparreno/mlops-wandb-course/runs/1egchxlx\" target=\"_blank\">dark-lake-2</a></strong> to <a href=\"https://wandb.ai/marioparreno/mlops-wandb-course\" target=\"_blank\">Weights & Biases</a> (<a href=\"https://wandb.me/run\" target=\"_blank\">docs</a>)<br/>"
      ],
      "text/plain": [
       "<IPython.core.display.HTML object>"
      ]
     },
     "metadata": {},
     "output_type": "display_data"
    },
    {
     "data": {
      "text/html": [
       " View project at <a href=\"https://wandb.ai/marioparreno/mlops-wandb-course\" target=\"_blank\">https://wandb.ai/marioparreno/mlops-wandb-course</a>"
      ],
      "text/plain": [
       "<IPython.core.display.HTML object>"
      ]
     },
     "metadata": {},
     "output_type": "display_data"
    },
    {
     "data": {
      "text/html": [
       " View run at <a href=\"https://wandb.ai/marioparreno/mlops-wandb-course/runs/1egchxlx\" target=\"_blank\">https://wandb.ai/marioparreno/mlops-wandb-course/runs/1egchxlx</a>"
      ],
      "text/plain": [
       "<IPython.core.display.HTML object>"
      ]
     },
     "metadata": {},
     "output_type": "display_data"
    }
   ],
   "source": [
    "run = wandb.init(\n",
    "    project=params.WANDB_PROJECT,\n",
    "    entity=params.ENTITY,\n",
    "    job_type=\"data_split\"\n",
    ")"
   ]
  },
  {
   "cell_type": "markdown",
   "id": "42b207bc",
   "metadata": {},
   "source": [
    "In the previous Notebook we saved our data to an Artifact\n",
    "\n",
    "We will use it now and track the lineage of our dataset in this way"
   ]
  },
  {
   "cell_type": "code",
   "execution_count": 5,
   "id": "e7cd9acc",
   "metadata": {
    "scrolled": false
   },
   "outputs": [
    {
     "name": "stderr",
     "output_type": "stream",
     "text": [
      "\u001b[34m\u001b[1mwandb\u001b[0m: Downloading large artifact oranges:latest, 2521.61MB. 796 files... \n",
      "\u001b[34m\u001b[1mwandb\u001b[0m:   796 of 796 files downloaded.  \n",
      "Done. 0:0:0.1\n"
     ]
    }
   ],
   "source": [
    "raw_data_at = run.use_artifact(\n",
    "    'marioparreno/mlops-wandb-course/oranges:latest',\n",
    "    type='raw_data'\n",
    ")\n",
    "artifact_dir = raw_data_at.download()"
   ]
  },
  {
   "cell_type": "markdown",
   "id": "8a6dd35d",
   "metadata": {},
   "source": [
    "To create the splits we will need the data filenames and labels\n",
    "\n",
    "We have already that information at our dataset we retrieved from the artifact"
   ]
  },
  {
   "cell_type": "code",
   "execution_count": 6,
   "id": "86024aa6",
   "metadata": {},
   "outputs": [
    {
     "data": {
      "text/html": [
       "<div>\n",
       "<style scoped>\n",
       "    .dataframe tbody tr th:only-of-type {\n",
       "        vertical-align: middle;\n",
       "    }\n",
       "\n",
       "    .dataframe tbody tr th {\n",
       "        vertical-align: top;\n",
       "    }\n",
       "\n",
       "    .dataframe thead th {\n",
       "        text-align: right;\n",
       "    }\n",
       "</style>\n",
       "<table border=\"1\" class=\"dataframe\">\n",
       "  <thead>\n",
       "    <tr style=\"text-align: right;\">\n",
       "      <th></th>\n",
       "      <th>image</th>\n",
       "      <th>label</th>\n",
       "    </tr>\n",
       "  </thead>\n",
       "  <tbody>\n",
       "    <tr>\n",
       "      <th>0</th>\n",
       "      <td>FreshOrange (1).jpg</td>\n",
       "      <td>FreshOrange</td>\n",
       "    </tr>\n",
       "    <tr>\n",
       "      <th>1</th>\n",
       "      <td>FreshOrange (10).jpg</td>\n",
       "      <td>FreshOrange</td>\n",
       "    </tr>\n",
       "    <tr>\n",
       "      <th>2</th>\n",
       "      <td>FreshOrange (100).jpg</td>\n",
       "      <td>FreshOrange</td>\n",
       "    </tr>\n",
       "    <tr>\n",
       "      <th>3</th>\n",
       "      <td>FreshOrange (101).jpg</td>\n",
       "      <td>FreshOrange</td>\n",
       "    </tr>\n",
       "    <tr>\n",
       "      <th>4</th>\n",
       "      <td>FreshOrange (102).jpg</td>\n",
       "      <td>FreshOrange</td>\n",
       "    </tr>\n",
       "  </tbody>\n",
       "</table>\n",
       "</div>"
      ],
      "text/plain": [
       "                   image        label\n",
       "0    FreshOrange (1).jpg  FreshOrange\n",
       "1   FreshOrange (10).jpg  FreshOrange\n",
       "2  FreshOrange (100).jpg  FreshOrange\n",
       "3  FreshOrange (101).jpg  FreshOrange\n",
       "4  FreshOrange (102).jpg  FreshOrange"
      ]
     },
     "execution_count": 6,
     "metadata": {},
     "output_type": "execute_result"
    }
   ],
   "source": [
    "orig_dataset = pd.read_csv(os.path.join(artifact_dir, \"labels.csv\"))\n",
    "orig_dataset.head()"
   ]
  },
  {
   "cell_type": "code",
   "execution_count": 7,
   "id": "ee2bb02e",
   "metadata": {},
   "outputs": [],
   "source": [
    "split_df = orig_dataset.copy()"
   ]
  },
  {
   "cell_type": "markdown",
   "id": "3f7f19c9",
   "metadata": {},
   "source": [
    "Now we are going to fill the `Stage` column to define the splits for training, validation and test"
   ]
  },
  {
   "cell_type": "code",
   "execution_count": 10,
   "id": "5518f0fb",
   "metadata": {},
   "outputs": [
    {
     "data": {
      "text/plain": [
       "train         240\n",
       "validation     80\n",
       "test           80\n",
       "Name: stage, dtype: int64"
      ]
     },
     "execution_count": 10,
     "metadata": {},
     "output_type": "execute_result"
    }
   ],
   "source": [
    "validation_frac = 0.2\n",
    "test_frac = 0.2\n",
    "# implicit train size 1 - validation_size - test_size\n",
    "\n",
    "# Set initially all to train split\n",
    "split_df['stage'] = 'train'\n",
    "\n",
    "# Shuffle the data\n",
    "split_df = split_df.sample(frac=1, random_state=42).reset_index(drop=True)\n",
    "\n",
    "# get the verfy first validate_size% as validation\n",
    "val_size = int(len(split_df)*validation_frac)\n",
    "split_df.loc[:val_size, ['stage']] = 'validation'\n",
    "\n",
    "# get the next test_size% as test\n",
    "test_size = int(len(split_df)*test_frac)\n",
    "split_df.loc[val_size:(val_size+test_size-1), ['stage']] = 'test'\n",
    "\n",
    "split_df.stage.value_counts()"
   ]
  },
  {
   "cell_type": "markdown",
   "id": "4b334887",
   "metadata": {},
   "source": [
    "Finally we save locally the data split"
   ]
  },
  {
   "cell_type": "code",
   "execution_count": 11,
   "id": "beea35df",
   "metadata": {},
   "outputs": [],
   "source": [
    "split_df.to_csv('data_split.csv', index=False)"
   ]
  },
  {
   "cell_type": "markdown",
   "id": "a96d3493",
   "metadata": {},
   "source": [
    "And log the data split by using an Artifact. Create the Artifact"
   ]
  },
  {
   "cell_type": "code",
   "execution_count": 12,
   "id": "e72647a6",
   "metadata": {},
   "outputs": [],
   "source": [
    "processed_data_at = wandb.Artifact(\n",
    "    params.PROCESSED_DATA_AT,\n",
    "    type=\"split_data\"\n",
    ")"
   ]
  },
  {
   "cell_type": "markdown",
   "id": "3d3cd45a",
   "metadata": {},
   "source": [
    "Add the data relevant to the splitted dataset: \n",
    "- The raw data (we could process it, etc) but as we are not modifying => omit\n",
    "- The split information + The dataset (labels) information"
   ]
  },
  {
   "cell_type": "code",
   "execution_count": 13,
   "id": "82541882",
   "metadata": {},
   "outputs": [
    {
     "data": {
      "text/plain": [
       "ArtifactManifestEntry(path='data_split.csv', digest='1CGm5gi1rmC7F8JsFD91Qw==', ref=None, birth_artifact_id=None, size=16522, extra={}, local_path='/home/maparla/.local/share/wandb/artifacts/staging/tmp4y5ghzpd')"
      ]
     },
     "execution_count": 13,
     "metadata": {},
     "output_type": "execute_result"
    }
   ],
   "source": [
    "# The split information\n",
    "processed_data_at.add_file('data_split.csv', name=\"data_split.csv\")"
   ]
  },
  {
   "cell_type": "markdown",
   "id": "1265bf9e",
   "metadata": {},
   "source": [
    "We are going to save the split information by using the Table object from W&B"
   ]
  },
  {
   "cell_type": "code",
   "execution_count": 14,
   "id": "ed8f351d",
   "metadata": {},
   "outputs": [],
   "source": [
    "data_split_table = wandb.Table(\n",
    "    dataframe=split_df\n",
    ")"
   ]
  },
  {
   "cell_type": "code",
   "execution_count": 15,
   "id": "736e819b",
   "metadata": {},
   "outputs": [
    {
     "data": {
      "text/plain": [
       "ArtifactManifestEntry(path='eda_table_data_split.table.json', digest='Ss5yoU+VhIYx1Yng7iiwmQ==', ref=None, birth_artifact_id=None, size=21384, extra={}, local_path='/home/maparla/.local/share/wandb/artifacts/staging/tmp5w8piro7')"
      ]
     },
     "execution_count": 15,
     "metadata": {},
     "output_type": "execute_result"
    }
   ],
   "source": [
    "processed_data_at.add(data_split_table, \"eda_table_data_split\")"
   ]
  },
  {
   "cell_type": "markdown",
   "id": "67b8b1c2",
   "metadata": {},
   "source": [
    "Now we can log our Artifact and finish the run"
   ]
  },
  {
   "cell_type": "code",
   "execution_count": 16,
   "id": "4eced4fe",
   "metadata": {},
   "outputs": [
    {
     "data": {
      "text/html": [
       "Waiting for W&B process to finish... <strong style=\"color:green\">(success).</strong>"
      ],
      "text/plain": [
       "<IPython.core.display.HTML object>"
      ]
     },
     "metadata": {},
     "output_type": "display_data"
    },
    {
     "data": {
      "text/html": [
       " View run <strong style=\"color:#cdcd00\">dark-lake-2</strong> at: <a href=\"https://wandb.ai/marioparreno/mlops-wandb-course/runs/1egchxlx\" target=\"_blank\">https://wandb.ai/marioparreno/mlops-wandb-course/runs/1egchxlx</a><br/>Synced 6 W&B file(s), 0 media file(s), 2 artifact file(s) and 0 other file(s)"
      ],
      "text/plain": [
       "<IPython.core.display.HTML object>"
      ]
     },
     "metadata": {},
     "output_type": "display_data"
    },
    {
     "data": {
      "text/html": [
       "Find logs at: <code>./wandb/run-20230121_115316-1egchxlx/logs</code>"
      ],
      "text/plain": [
       "<IPython.core.display.HTML object>"
      ]
     },
     "metadata": {},
     "output_type": "display_data"
    }
   ],
   "source": [
    "run.log_artifact(processed_data_at)\n",
    "run.finish()"
   ]
  }
 ],
 "metadata": {
  "kernelspec": {
   "display_name": "Python 3 (ipykernel)",
   "language": "python",
   "name": "python3"
  },
  "language_info": {
   "codemirror_mode": {
    "name": "ipython",
    "version": 3
   },
   "file_extension": ".py",
   "mimetype": "text/x-python",
   "name": "python",
   "nbconvert_exporter": "python",
   "pygments_lexer": "ipython3",
   "version": "3.8.13"
  }
 },
 "nbformat": 4,
 "nbformat_minor": 5
}
