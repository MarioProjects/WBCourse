{
 "cells": [
  {
   "cell_type": "markdown",
   "id": "c5f0b4ed",
   "metadata": {},
   "source": [
    "We are going to prepare a simple dataset file with the labels of our oranges dataset"
   ]
  },
  {
   "cell_type": "code",
   "execution_count": 1,
   "id": "e0add24f",
   "metadata": {},
   "outputs": [],
   "source": [
    "import os\n",
    "from pathlib import Path\n",
    "import pandas as pd"
   ]
  },
  {
   "cell_type": "code",
   "execution_count": 18,
   "id": "962cb6d5",
   "metadata": {},
   "outputs": [],
   "source": [
    "DATA_DIR = 'DATASETS/oranges'"
   ]
  },
  {
   "cell_type": "code",
   "execution_count": 19,
   "id": "612f3ebf",
   "metadata": {},
   "outputs": [],
   "source": [
    "dataset = []\n",
    "for path in Path(DATA_DIR).rglob('*.jpg'):\n",
    "    dataset.append({\n",
    "        \"image\": path.name,\n",
    "        \"label\": str(path.parent).split(\"/\")[-1]\n",
    "    })"
   ]
  },
  {
   "cell_type": "code",
   "execution_count": 20,
   "id": "8b76dc63",
   "metadata": {},
   "outputs": [
    {
     "data": {
      "text/html": [
       "<div>\n",
       "<style scoped>\n",
       "    .dataframe tbody tr th:only-of-type {\n",
       "        vertical-align: middle;\n",
       "    }\n",
       "\n",
       "    .dataframe tbody tr th {\n",
       "        vertical-align: top;\n",
       "    }\n",
       "\n",
       "    .dataframe thead th {\n",
       "        text-align: right;\n",
       "    }\n",
       "</style>\n",
       "<table border=\"1\" class=\"dataframe\">\n",
       "  <thead>\n",
       "    <tr style=\"text-align: right;\">\n",
       "      <th></th>\n",
       "      <th>image</th>\n",
       "      <th>label</th>\n",
       "    </tr>\n",
       "  </thead>\n",
       "  <tbody>\n",
       "    <tr>\n",
       "      <th>0</th>\n",
       "      <td>FreshOrange (1).jpg</td>\n",
       "      <td>FreshOrange</td>\n",
       "    </tr>\n",
       "    <tr>\n",
       "      <th>1</th>\n",
       "      <td>FreshOrange (10).jpg</td>\n",
       "      <td>FreshOrange</td>\n",
       "    </tr>\n",
       "    <tr>\n",
       "      <th>2</th>\n",
       "      <td>FreshOrange (100).jpg</td>\n",
       "      <td>FreshOrange</td>\n",
       "    </tr>\n",
       "    <tr>\n",
       "      <th>3</th>\n",
       "      <td>FreshOrange (101).jpg</td>\n",
       "      <td>FreshOrange</td>\n",
       "    </tr>\n",
       "    <tr>\n",
       "      <th>4</th>\n",
       "      <td>FreshOrange (102).jpg</td>\n",
       "      <td>FreshOrange</td>\n",
       "    </tr>\n",
       "  </tbody>\n",
       "</table>\n",
       "</div>"
      ],
      "text/plain": [
       "                   image        label\n",
       "0    FreshOrange (1).jpg  FreshOrange\n",
       "1   FreshOrange (10).jpg  FreshOrange\n",
       "2  FreshOrange (100).jpg  FreshOrange\n",
       "3  FreshOrange (101).jpg  FreshOrange\n",
       "4  FreshOrange (102).jpg  FreshOrange"
      ]
     },
     "execution_count": 20,
     "metadata": {},
     "output_type": "execute_result"
    }
   ],
   "source": [
    "df = pd.DataFrame(dataset)\n",
    "df.head()"
   ]
  },
  {
   "cell_type": "code",
   "execution_count": 21,
   "id": "3ae0ddf0",
   "metadata": {},
   "outputs": [],
   "source": [
    "df.to_csv(os.path.join(DATA_DIR, 'labels.csv'), index=False)"
   ]
  }
 ],
 "metadata": {
  "kernelspec": {
   "display_name": "Python 3 (ipykernel)",
   "language": "python",
   "name": "python3"
  },
  "language_info": {
   "codemirror_mode": {
    "name": "ipython",
    "version": 3
   },
   "file_extension": ".py",
   "mimetype": "text/x-python",
   "name": "python",
   "nbconvert_exporter": "python",
   "pygments_lexer": "ipython3",
   "version": "3.8.13"
  }
 },
 "nbformat": 4,
 "nbformat_minor": 5
}
